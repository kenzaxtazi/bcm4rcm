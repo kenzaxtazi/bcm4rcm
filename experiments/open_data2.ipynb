{
 "cells": [
  {
   "cell_type": "markdown",
   "metadata": {},
   "source": [
    "### File to generate CSV files from the data\n",
    "\n",
    "13th November 2023"
   ]
  },
  {
   "cell_type": "code",
   "execution_count": 2,
   "metadata": {},
   "outputs": [],
   "source": [
    "import utils.process_data as pro\n",
    "import xarray as xr"
   ]
  },
  {
   "cell_type": "code",
   "execution_count": 3,
   "metadata": {},
   "outputs": [],
   "source": [
    "%load_ext autoreload\n",
    "%autoreload"
   ]
  },
  {
   "cell_type": "code",
   "execution_count": 4,
   "metadata": {},
   "outputs": [],
   "source": [
    "domain = 'WAS'\n",
    "model_dict = {'CanESM2':['CanESM2', 'RegCM4'], 'NOAA_IITM':['NOAA', 'RegCM4'], 'CNRM_RegCM4': ['CNRM', 'RegCM4'], \n",
    "              'MPI_IITM': ['MPI', 'RegCM4'], 'IPSL_RegCM4': ['IPSL', 'RegCM4'], 'CSIRO': ['CSIRO', 'RegCM4'],\n",
    "              'EC-EARTH':['EC-EARTH', 'RCA4'], 'MIROC': ['MIROC','RCA4'], 'NOAA_SMHI':['NOAA', 'RCA4'],\n",
    "              'CNRM': ['CNRM', 'RCA4'], 'MPI_RCA4': ['MPI', 'RCA4'], 'IPSL_RCA4': ['IPSL', 'RCA4'],\n",
    "              'MPI-REMO2009':['MPI', 'REMO2009']}"
   ]
  },
  {
   "cell_type": "code",
   "execution_count": 5,
   "metadata": {},
   "outputs": [],
   "source": [
    "model_list = ['MPI_IITM', 'CSIRO', 'MIROC', 'NOAA_SMHI', 'MPI-REMO2009']"
   ]
  },
  {
   "cell_type": "code",
   "execution_count": 6,
   "metadata": {},
   "outputs": [],
   "source": [
    "#pro.process_data(model_list, experiment='historical', minyear='1976', maxyear='2006')"
   ]
  },
  {
   "cell_type": "code",
   "execution_count": 7,
   "metadata": {},
   "outputs": [
    {
     "name": "stderr",
     "output_type": "stream",
     "text": [
      "/Users/kenzatazi/Documents/CDT/Code/load/cordex.py:52: UserWarning: Converting non-nanosecond precision datetime values to nanosecond precision. This behavior can eventually be relaxed in xarray, as it is an artifact from pandas which is now beginning to support non-nanosecond precision values. This warning is caused by passing non-nanosecond np.datetime64 or np.timedelta64 values to the DataArray or Variable constructor; it can be silenced by converting the values to nanosecond precision ahead of time.\n",
      "  ds['time'] = ds['time'].astype('datetime64[M]')\n",
      "/Users/kenzatazi/Documents/CDT/Code/load/cordex.py:52: UserWarning: Converting non-nanosecond precision datetime values to nanosecond precision. This behavior can eventually be relaxed in xarray, as it is an artifact from pandas which is now beginning to support non-nanosecond precision values. This warning is caused by passing non-nanosecond np.datetime64 or np.timedelta64 values to the DataArray or Variable constructor; it can be silenced by converting the values to nanosecond precision ahead of time.\n",
      "  ds['time'] = ds['time'].astype('datetime64[M]')\n",
      "/Users/kenzatazi/Documents/CDT/Code/load/cordex.py:52: UserWarning: Converting non-nanosecond precision datetime values to nanosecond precision. This behavior can eventually be relaxed in xarray, as it is an artifact from pandas which is now beginning to support non-nanosecond precision values. This warning is caused by passing non-nanosecond np.datetime64 or np.timedelta64 values to the DataArray or Variable constructor; it can be silenced by converting the values to nanosecond precision ahead of time.\n",
      "  ds['time'] = ds['time'].astype('datetime64[M]')\n",
      "/Users/kenzatazi/Documents/CDT/Code/load/cordex.py:52: UserWarning: Converting non-nanosecond precision datetime values to nanosecond precision. This behavior can eventually be relaxed in xarray, as it is an artifact from pandas which is now beginning to support non-nanosecond precision values. This warning is caused by passing non-nanosecond np.datetime64 or np.timedelta64 values to the DataArray or Variable constructor; it can be silenced by converting the values to nanosecond precision ahead of time.\n",
      "  ds['time'] = ds['time'].astype('datetime64[M]')\n",
      "/Users/kenzatazi/Documents/CDT/Code/load/cordex.py:52: UserWarning: Converting non-nanosecond precision datetime values to nanosecond precision. This behavior can eventually be relaxed in xarray, as it is an artifact from pandas which is now beginning to support non-nanosecond precision values. This warning is caused by passing non-nanosecond np.datetime64 or np.timedelta64 values to the DataArray or Variable constructor; it can be silenced by converting the values to nanosecond precision ahead of time.\n",
      "  ds['time'] = ds['time'].astype('datetime64[M]')\n",
      "/Users/kenzatazi/Documents/CDT/Code/load/cordex.py:52: UserWarning: Converting non-nanosecond precision datetime values to nanosecond precision. This behavior can eventually be relaxed in xarray, as it is an artifact from pandas which is now beginning to support non-nanosecond precision values. This warning is caused by passing non-nanosecond np.datetime64 or np.timedelta64 values to the DataArray or Variable constructor; it can be silenced by converting the values to nanosecond precision ahead of time.\n",
      "  ds['time'] = ds['time'].astype('datetime64[M]')\n",
      "/Users/kenzatazi/Documents/CDT/Code/load/cordex.py:52: UserWarning: Converting non-nanosecond precision datetime values to nanosecond precision. This behavior can eventually be relaxed in xarray, as it is an artifact from pandas which is now beginning to support non-nanosecond precision values. This warning is caused by passing non-nanosecond np.datetime64 or np.timedelta64 values to the DataArray or Variable constructor; it can be silenced by converting the values to nanosecond precision ahead of time.\n",
      "  ds['time'] = ds['time'].astype('datetime64[M]')\n",
      "/Users/kenzatazi/Documents/CDT/Code/load/cordex.py:52: UserWarning: Converting non-nanosecond precision datetime values to nanosecond precision. This behavior can eventually be relaxed in xarray, as it is an artifact from pandas which is now beginning to support non-nanosecond precision values. This warning is caused by passing non-nanosecond np.datetime64 or np.timedelta64 values to the DataArray or Variable constructor; it can be silenced by converting the values to nanosecond precision ahead of time.\n",
      "  ds['time'] = ds['time'].astype('datetime64[M]')\n",
      "/Users/kenzatazi/Documents/CDT/Code/load/cordex.py:52: UserWarning: Converting non-nanosecond precision datetime values to nanosecond precision. This behavior can eventually be relaxed in xarray, as it is an artifact from pandas which is now beginning to support non-nanosecond precision values. This warning is caused by passing non-nanosecond np.datetime64 or np.timedelta64 values to the DataArray or Variable constructor; it can be silenced by converting the values to nanosecond precision ahead of time.\n",
      "  ds['time'] = ds['time'].astype('datetime64[M]')\n",
      "/Users/kenzatazi/Documents/CDT/Code/load/cordex.py:52: UserWarning: Converting non-nanosecond precision datetime values to nanosecond precision. This behavior can eventually be relaxed in xarray, as it is an artifact from pandas which is now beginning to support non-nanosecond precision values. This warning is caused by passing non-nanosecond np.datetime64 or np.timedelta64 values to the DataArray or Variable constructor; it can be silenced by converting the values to nanosecond precision ahead of time.\n",
      "  ds['time'] = ds['time'].astype('datetime64[M]')\n",
      "/Users/kenzatazi/Documents/CDT/Code/load/cordex.py:52: UserWarning: Converting non-nanosecond precision datetime values to nanosecond precision. This behavior can eventually be relaxed in xarray, as it is an artifact from pandas which is now beginning to support non-nanosecond precision values. This warning is caused by passing non-nanosecond np.datetime64 or np.timedelta64 values to the DataArray or Variable constructor; it can be silenced by converting the values to nanosecond precision ahead of time.\n",
      "  ds['time'] = ds['time'].astype('datetime64[M]')\n",
      "/Users/kenzatazi/Documents/CDT/Code/load/cordex.py:52: UserWarning: Converting non-nanosecond precision datetime values to nanosecond precision. This behavior can eventually be relaxed in xarray, as it is an artifact from pandas which is now beginning to support non-nanosecond precision values. This warning is caused by passing non-nanosecond np.datetime64 or np.timedelta64 values to the DataArray or Variable constructor; it can be silenced by converting the values to nanosecond precision ahead of time.\n",
      "  ds['time'] = ds['time'].astype('datetime64[M]')\n",
      "/Users/kenzatazi/Documents/CDT/Code/load/cordex.py:52: UserWarning: Converting non-nanosecond precision datetime values to nanosecond precision. This behavior can eventually be relaxed in xarray, as it is an artifact from pandas which is now beginning to support non-nanosecond precision values. This warning is caused by passing non-nanosecond np.datetime64 or np.timedelta64 values to the DataArray or Variable constructor; it can be silenced by converting the values to nanosecond precision ahead of time.\n",
      "  ds['time'] = ds['time'].astype('datetime64[M]')\n",
      "/Users/kenzatazi/Documents/CDT/Code/load/cordex.py:52: UserWarning: Converting non-nanosecond precision datetime values to nanosecond precision. This behavior can eventually be relaxed in xarray, as it is an artifact from pandas which is now beginning to support non-nanosecond precision values. This warning is caused by passing non-nanosecond np.datetime64 or np.timedelta64 values to the DataArray or Variable constructor; it can be silenced by converting the values to nanosecond precision ahead of time.\n",
      "  ds['time'] = ds['time'].astype('datetime64[M]')\n",
      "/Users/kenzatazi/Documents/CDT/Code/load/cordex.py:52: UserWarning: Converting non-nanosecond precision datetime values to nanosecond precision. This behavior can eventually be relaxed in xarray, as it is an artifact from pandas which is now beginning to support non-nanosecond precision values. This warning is caused by passing non-nanosecond np.datetime64 or np.timedelta64 values to the DataArray or Variable constructor; it can be silenced by converting the values to nanosecond precision ahead of time.\n",
      "  ds['time'] = ds['time'].astype('datetime64[M]')\n",
      "/Users/kenzatazi/Documents/CDT/Code/load/cordex.py:52: UserWarning: Converting non-nanosecond precision datetime values to nanosecond precision. This behavior can eventually be relaxed in xarray, as it is an artifact from pandas which is now beginning to support non-nanosecond precision values. This warning is caused by passing non-nanosecond np.datetime64 or np.timedelta64 values to the DataArray or Variable constructor; it can be silenced by converting the values to nanosecond precision ahead of time.\n",
      "  ds['time'] = ds['time'].astype('datetime64[M]')\n",
      "/Users/kenzatazi/Documents/CDT/Code/load/cordex.py:52: UserWarning: Converting non-nanosecond precision datetime values to nanosecond precision. This behavior can eventually be relaxed in xarray, as it is an artifact from pandas which is now beginning to support non-nanosecond precision values. This warning is caused by passing non-nanosecond np.datetime64 or np.timedelta64 values to the DataArray or Variable constructor; it can be silenced by converting the values to nanosecond precision ahead of time.\n",
      "  ds['time'] = ds['time'].astype('datetime64[M]')\n",
      "/Users/kenzatazi/Documents/CDT/Code/load/cordex.py:52: UserWarning: Converting non-nanosecond precision datetime values to nanosecond precision. This behavior can eventually be relaxed in xarray, as it is an artifact from pandas which is now beginning to support non-nanosecond precision values. This warning is caused by passing non-nanosecond np.datetime64 or np.timedelta64 values to the DataArray or Variable constructor; it can be silenced by converting the values to nanosecond precision ahead of time.\n",
      "  ds['time'] = ds['time'].astype('datetime64[M]')\n",
      "/Users/kenzatazi/Documents/CDT/Code/load/cordex.py:52: UserWarning: Converting non-nanosecond precision datetime values to nanosecond precision. This behavior can eventually be relaxed in xarray, as it is an artifact from pandas which is now beginning to support non-nanosecond precision values. This warning is caused by passing non-nanosecond np.datetime64 or np.timedelta64 values to the DataArray or Variable constructor; it can be silenced by converting the values to nanosecond precision ahead of time.\n",
      "  ds['time'] = ds['time'].astype('datetime64[M]')\n",
      "/Users/kenzatazi/Documents/CDT/Code/load/cordex.py:52: UserWarning: Converting non-nanosecond precision datetime values to nanosecond precision. This behavior can eventually be relaxed in xarray, as it is an artifact from pandas which is now beginning to support non-nanosecond precision values. This warning is caused by passing non-nanosecond np.datetime64 or np.timedelta64 values to the DataArray or Variable constructor; it can be silenced by converting the values to nanosecond precision ahead of time.\n",
      "  ds['time'] = ds['time'].astype('datetime64[M]')\n",
      "/Users/kenzatazi/Documents/CDT/Code/load/cordex.py:52: UserWarning: Converting non-nanosecond precision datetime values to nanosecond precision. This behavior can eventually be relaxed in xarray, as it is an artifact from pandas which is now beginning to support non-nanosecond precision values. This warning is caused by passing non-nanosecond np.datetime64 or np.timedelta64 values to the DataArray or Variable constructor; it can be silenced by converting the values to nanosecond precision ahead of time.\n",
      "  ds['time'] = ds['time'].astype('datetime64[M]')\n",
      "/Users/kenzatazi/Documents/CDT/Code/load/cordex.py:52: UserWarning: Converting non-nanosecond precision datetime values to nanosecond precision. This behavior can eventually be relaxed in xarray, as it is an artifact from pandas which is now beginning to support non-nanosecond precision values. This warning is caused by passing non-nanosecond np.datetime64 or np.timedelta64 values to the DataArray or Variable constructor; it can be silenced by converting the values to nanosecond precision ahead of time.\n",
      "  ds['time'] = ds['time'].astype('datetime64[M]')\n",
      "/Users/kenzatazi/Documents/CDT/Code/load/cordex.py:52: UserWarning: Converting non-nanosecond precision datetime values to nanosecond precision. This behavior can eventually be relaxed in xarray, as it is an artifact from pandas which is now beginning to support non-nanosecond precision values. This warning is caused by passing non-nanosecond np.datetime64 or np.timedelta64 values to the DataArray or Variable constructor; it can be silenced by converting the values to nanosecond precision ahead of time.\n",
      "  ds['time'] = ds['time'].astype('datetime64[M]')\n",
      "/Users/kenzatazi/Documents/CDT/Code/load/cordex.py:52: UserWarning: Converting non-nanosecond precision datetime values to nanosecond precision. This behavior can eventually be relaxed in xarray, as it is an artifact from pandas which is now beginning to support non-nanosecond precision values. This warning is caused by passing non-nanosecond np.datetime64 or np.timedelta64 values to the DataArray or Variable constructor; it can be silenced by converting the values to nanosecond precision ahead of time.\n",
      "  ds['time'] = ds['time'].astype('datetime64[M]')\n"
     ]
    }
   ],
   "source": [
    "pro.process_data(model_list, experiment='rcp45', minyear='2066', maxyear='2095')"
   ]
  }
 ],
 "metadata": {
  "kernelspec": {
   "display_name": "bcm4rcm_plotting",
   "language": "python",
   "name": "python3"
  },
  "language_info": {
   "codemirror_mode": {
    "name": "ipython",
    "version": 3
   },
   "file_extension": ".py",
   "mimetype": "text/x-python",
   "name": "python",
   "nbconvert_exporter": "python",
   "pygments_lexer": "ipython3",
   "version": "3.11.5"
  }
 },
 "nbformat": 4,
 "nbformat_minor": 2
}
