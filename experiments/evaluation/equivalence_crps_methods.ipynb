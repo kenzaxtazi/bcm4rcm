{
 "cells": [
  {
   "cell_type": "code",
   "execution_count": 4,
   "metadata": {},
   "outputs": [
    {
     "name": "stdout",
     "output_type": "stream",
     "text": [
      "CRPS (Integral-based): 0.12212035370510295\n",
      "CRPS (Expectation-based): 0.11877613678503574\n",
      "Difference between Integral and Expectation CRPS: 0.003344216920067214\n"
     ]
    }
   ],
   "source": [
    "import numpy as np\n",
    "from scipy.integrate import quad\n",
    "from scipy.stats import norm, gaussian_kde\n",
    "\n",
    "# Generate synthetic data: two normal distributions with different means\n",
    "# np.random.seed(42)\n",
    "x_samples = np.random.normal(loc=0, scale=4, size=30*9)  # Sample from N(0, 1)\n",
    "y_samples = np.random.normal(loc=1, scale=4, size=100*100)  # Sample from N(1, 1)\n",
    "\n",
    "# Define CDF for integral-based CRPS\n",
    "def cdf_normal(x, mean, std):\n",
    "    return norm.cdf(x, loc=mean, scale=std)\n",
    "\n",
    "# Integral-based CRPS computation (using Gaussian distributions as an example)\n",
    "def crps_integral(mean_x, std_x, mean_y, std_y):\n",
    "    def integrand(z):\n",
    "        cdf_x = cdf_normal(z, mean_x, std_x)\n",
    "        cdf_y = cdf_normal(z, mean_y, std_y)\n",
    "        return (cdf_x - cdf_y) ** 2\n",
    "    result, _ = quad(integrand, -np.inf, np.inf)\n",
    "    return result\n",
    "\n",
    "# Compute CRPS using integral-based method\n",
    "mean_x, std_x = np.mean(x_samples), np.std(x_samples)\n",
    "mean_y, std_y = np.mean(y_samples), np.std(y_samples)\n",
    "crps_integral_value = crps_integral(mean_x, std_x, mean_y, std_y)\n",
    "print(f\"CRPS (Integral-based): {crps_integral_value}\")\n",
    "\n",
    "# Expectation-based CRPS computation using empirical samples\n",
    "def crps_expectation_based(x_samples, y_samples):\n",
    "    N = len(x_samples)\n",
    "    M = len(y_samples)\n",
    "    \n",
    "    # First term: E[|X - Y|]\n",
    "    term1 = np.mean([np.abs(x_i - y_j) for x_i in x_samples for y_j in y_samples])\n",
    "    \n",
    "    # Second term: E[|X - X'|]\n",
    "    term2 = np.mean([np.abs(x_i - x_j) for x_i in x_samples for x_j in x_samples])\n",
    "    \n",
    "    # Third term: E[|Y - Y'|]\n",
    "    term3 = np.mean([np.abs(y_i - y_j) for y_i in y_samples for y_j in y_samples])\n",
    "    \n",
    "    # CRPS empirical formula\n",
    "    crps_empirical = term1 - 0.5 * term2 - 0.5 * term3\n",
    "    return crps_empirical\n",
    "\n",
    "# Compute CRPS using expectation-based method\n",
    "crps_expectation_value = crps_expectation_based(x_samples, y_samples)\n",
    "print(f\"CRPS (Expectation-based): {crps_expectation_value}\")\n",
    "\n",
    "# Compare results\n",
    "print(f\"Difference between Integral and Expectation CRPS: {abs(crps_integral_value - crps_expectation_value)}\")"
   ]
  }
 ],
 "metadata": {
  "kernelspec": {
   "display_name": "Python 3",
   "language": "python",
   "name": "python3"
  },
  "language_info": {
   "codemirror_mode": {
    "name": "ipython",
    "version": 3
   },
   "file_extension": ".py",
   "mimetype": "text/x-python",
   "name": "python",
   "nbconvert_exporter": "python",
   "pygments_lexer": "ipython3",
   "version": "3.7.6"
  }
 },
 "nbformat": 4,
 "nbformat_minor": 4
}
